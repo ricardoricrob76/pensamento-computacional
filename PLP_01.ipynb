{
  "nbformat": 4,
  "nbformat_minor": 0,
  "metadata": {
    "colab": {
      "provenance": [],
      "authorship_tag": "ABX9TyPf/S7+7XEkU/gywtURrM/+",
      "include_colab_link": true
    },
    "kernelspec": {
      "name": "python3",
      "display_name": "Python 3"
    },
    "language_info": {
      "name": "python"
    }
  },
  "cells": [
    {
      "cell_type": "markdown",
      "metadata": {
        "id": "view-in-github",
        "colab_type": "text"
      },
      "source": [
        "<a href=\"https://colab.research.google.com/github/ricardoricrob76/pensamento-computacional/blob/main/PLP_01.ipynb\" target=\"_parent\"><img src=\"https://colab.research.google.com/assets/colab-badge.svg\" alt=\"Open In Colab\"/></a>"
      ]
    },
    {
      "cell_type": "markdown",
      "source": [
        "Programa 01 - Objetivo: Fazer a Leitura de duas Notas e Calcular sua Média."
      ],
      "metadata": {
        "id": "03UZ1R5UM7_3"
      }
    },
    {
      "cell_type": "code",
      "source": [
        "nota1 = float(input(\"Informe a Nota 1\"))\n",
        "nota2 = float(input(\"Informe a Nota 2\"))\n",
        "Med = (nota1 + nota2)/2\n",
        "print(\"A média final é:\")\n",
        "print(Med)"
      ],
      "metadata": {
        "colab": {
          "base_uri": "https://localhost:8080/"
        },
        "id": "bmSA_wWTNESZ",
        "outputId": "9f8193d7-deac-4c0e-9240-09cfb28293da"
      },
      "execution_count": 1,
      "outputs": [
        {
          "output_type": "stream",
          "name": "stdout",
          "text": [
            "Informe a Nota 18\n",
            "Informe a Nota 27\n",
            "A média final é:\n",
            "7.5\n"
          ]
        }
      ]
    },
    {
      "cell_type": "markdown",
      "source": [
        "Programa 02 - Escrevendo o mesmo problema de forma Modularizada com Funções e Procedimentos.\n"
      ],
      "metadata": {
        "id": "ZEqhzb7_ORQe"
      }
    },
    {
      "cell_type": "code",
      "source": [],
      "metadata": {
        "id": "-MffBcTENgFp"
      },
      "execution_count": null,
      "outputs": []
    }
  ]
}