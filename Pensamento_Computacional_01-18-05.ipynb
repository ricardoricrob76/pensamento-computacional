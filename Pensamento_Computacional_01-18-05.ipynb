{
  "nbformat": 4,
  "nbformat_minor": 0,
  "metadata": {
    "colab": {
      "name": "Pensamento-Computacional-01.ipynb",
      "provenance": [],
      "authorship_tag": "ABX9TyODFhNNmzzbhZG9jLCHvJ3C",
      "include_colab_link": true
    },
    "kernelspec": {
      "name": "python3",
      "display_name": "Python 3"
    },
    "language_info": {
      "name": "python"
    }
  },
  "cells": [
    {
      "cell_type": "markdown",
      "metadata": {
        "id": "view-in-github",
        "colab_type": "text"
      },
      "source": [
        "<a href=\"https://colab.research.google.com/github/ricardoricrob76/pensamento-computacional/blob/main/Pensamento_Computacional_01-18-05.ipynb\" target=\"_parent\"><img src=\"https://colab.research.google.com/assets/colab-badge.svg\" alt=\"Open In Colab\"/></a>"
      ]
    },
    {
      "cell_type": "markdown",
      "source": [
        "# **Primeiro Programa em Python - Testando ao ambiente**"
      ],
      "metadata": {
        "id": "f2GMKs_2DJU6"
      }
    },
    {
      "cell_type": "code",
      "source": [
        "# testando o ambiente"
      ],
      "metadata": {
        "id": "o-3V6ZAqDQ5d"
      },
      "execution_count": 2,
      "outputs": []
    },
    {
      "cell_type": "code",
      "source": [
        "a = 10"
      ],
      "metadata": {
        "id": "rqoRu4UnDmLO"
      },
      "execution_count": 3,
      "outputs": []
    },
    {
      "cell_type": "code",
      "source": [
        "b = 30\n",
        "c = (a + b)"
      ],
      "metadata": {
        "id": "qdDO63AdDtEC"
      },
      "execution_count": 4,
      "outputs": []
    },
    {
      "cell_type": "code",
      "source": [
        "print(c)"
      ],
      "metadata": {
        "colab": {
          "base_uri": "https://localhost:8080/"
        },
        "id": "IE09sWk9DvmL",
        "outputId": "9a0099f4-14b6-4fac-85c1-c28c49004df4"
      },
      "execution_count": 5,
      "outputs": [
        {
          "output_type": "stream",
          "name": "stdout",
          "text": [
            "40\n"
          ]
        }
      ]
    },
    {
      "cell_type": "code",
      "source": [
        "print(\"o resultado da soma de a + b é\", c)"
      ],
      "metadata": {
        "colab": {
          "base_uri": "https://localhost:8080/"
        },
        "id": "eAnKRi6UDw2v",
        "outputId": "58d9c188-976e-4f52-e8c6-13262cbabf9c"
      },
      "execution_count": 6,
      "outputs": [
        {
          "output_type": "stream",
          "name": "stdout",
          "text": [
            "o resultado da soma de a + b é 40\n"
          ]
        }
      ]
    },
    {
      "cell_type": "code",
      "source": [
        ""
      ],
      "metadata": {
        "id": "2BKMo02UECAa"
      },
      "execution_count": null,
      "outputs": []
    }
  ]
}