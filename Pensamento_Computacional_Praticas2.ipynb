{
  "nbformat": 4,
  "nbformat_minor": 0,
  "metadata": {
    "colab": {
      "name": "Pensamento Computacional - Praticas.ipynb",
      "provenance": [],
      "authorship_tag": "ABX9TyPfKwZQrpy3C7atSHD1ttHH",
      "include_colab_link": true
    },
    "kernelspec": {
      "name": "python3",
      "display_name": "Python 3"
    },
    "language_info": {
      "name": "python"
    }
  },
  "cells": [
    {
      "cell_type": "markdown",
      "metadata": {
        "id": "view-in-github",
        "colab_type": "text"
      },
      "source": [
        "<a href=\"https://colab.research.google.com/github/ricardoricrob76/pensamento-computacional/blob/main/Pensamento_Computacional_Praticas2.ipynb\" target=\"_parent\"><img src=\"https://colab.research.google.com/assets/colab-badge.svg\" alt=\"Open In Colab\"/></a>"
      ]
    },
    {
      "cell_type": "markdown",
      "source": [
        "Programa 01 - Problema: Calcular a média\n",
        "de duas notas lançadas pelo aluno. - Autor: Ricardo Roberto de Lima.\n"
      ],
      "metadata": {
        "id": "l1TdfX-XjVzx"
      }
    },
    {
      "cell_type": "code",
      "execution_count": null,
      "metadata": {
        "id": "AfxphMRsjDrE"
      },
      "outputs": [],
      "source": [
        "a = 10"
      ]
    },
    {
      "cell_type": "code",
      "source": [
        "b = 30"
      ],
      "metadata": {
        "id": "TLBsm4rejdNj"
      },
      "execution_count": null,
      "outputs": []
    },
    {
      "cell_type": "code",
      "source": [
        "c = (a + b)"
      ],
      "metadata": {
        "id": "xL7VkN_pjwft"
      },
      "execution_count": null,
      "outputs": []
    },
    {
      "cell_type": "code",
      "source": [
        "print(\"O resultado da soma é: \", c)"
      ],
      "metadata": {
        "colab": {
          "base_uri": "https://localhost:8080/"
        },
        "id": "H4QU0_j_jyFw",
        "outputId": "4d6eb26c-b68c-40b6-ce82-c3dcaf7eddcc"
      },
      "execution_count": null,
      "outputs": [
        {
          "output_type": "stream",
          "name": "stdout",
          "text": [
            "O resultado da soma é:  40\n"
          ]
        }
      ]
    },
    {
      "cell_type": "code",
      "source": [
        ""
      ],
      "metadata": {
        "id": "GLHitoxdj8QO"
      },
      "execution_count": null,
      "outputs": []
    },
    {
      "cell_type": "markdown",
      "source": [
        "01 - Programa 01 Calcular a Média..\n"
      ],
      "metadata": {
        "id": "hXxs0C1Ml7cz"
      }
    },
    {
      "cell_type": "code",
      "source": [
        "n1 = (float(input(\"Digite a Primeira Nota:\")))"
      ],
      "metadata": {
        "colab": {
          "base_uri": "https://localhost:8080/"
        },
        "id": "7WgO04JGl-dF",
        "outputId": "4eb38234-b319-47ca-fb87-a3572cc0fbc3"
      },
      "execution_count": 1,
      "outputs": [
        {
          "name": "stdout",
          "output_type": "stream",
          "text": [
            "Digite a Primeira Nota:7.8\n"
          ]
        }
      ]
    },
    {
      "cell_type": "code",
      "source": [
        "n2 = (float(input(\"Digite a Segunda Nota:\")))"
      ],
      "metadata": {
        "colab": {
          "base_uri": "https://localhost:8080/"
        },
        "id": "1aePPqrcmH7b",
        "outputId": "93087e21-1356-4f7f-83fc-d42ac0387bcf"
      },
      "execution_count": 2,
      "outputs": [
        {
          "name": "stdout",
          "output_type": "stream",
          "text": [
            "Digite a Segunda Nota:5.9\n"
          ]
        }
      ]
    },
    {
      "cell_type": "code",
      "source": [
        "med = (n1 + n2) / 2"
      ],
      "metadata": {
        "id": "WUIIHlfHmPx7"
      },
      "execution_count": 3,
      "outputs": []
    },
    {
      "cell_type": "code",
      "source": [
        "print(\"Resultado da média é: \", med)"
      ],
      "metadata": {
        "id": "xBon3puemVdm",
        "outputId": "63e4cfef-d166-4c5c-845d-e80a7ab3e35d",
        "colab": {
          "base_uri": "https://localhost:8080/"
        }
      },
      "execution_count": 4,
      "outputs": [
        {
          "output_type": "stream",
          "name": "stdout",
          "text": [
            "Resultado da média é:  6.85\n"
          ]
        }
      ]
    },
    {
      "cell_type": "code",
      "source": [
        "if (med >= 7):\n",
        "  print(\"Aluno Aprovado\", med)\n",
        "else:\n",
        "  print(\"Aluno em Recuperação\", med)"
      ],
      "metadata": {
        "colab": {
          "base_uri": "https://localhost:8080/"
        },
        "id": "hwzZg_4pLMeK",
        "outputId": "5413cb80-74f7-47d1-a3f2-1bd6c9a7982a"
      },
      "execution_count": 6,
      "outputs": [
        {
          "output_type": "stream",
          "name": "stdout",
          "text": [
            "Aluno em Recuperação 6.85\n"
          ]
        }
      ]
    },
    {
      "cell_type": "markdown",
      "source": [
        "02 - Programa para calcular o turno.\n",
        "\"\"\"\n",
        "Faça um Programa que pergunte em que turno você estuda.\n",
        "Peça para digitar M-matutino ou V-Vespertino ou N- Noturno.\n",
        "Imprima a mensagem \"Bom Dia!\", \"Boa Tarde!\" ou \"Boa Noite!\" ou\n",
        "\"Valor Inválido!\", conforme o caso.\n",
        "\"\"\"\n"
      ],
      "metadata": {
        "id": "N0jTi14_gCzi"
      }
    },
    {
      "cell_type": "code",
      "source": [
        "turno = input(\n",
        "    \"Digite seu turno, M - matutino, V - vespertino, N - noturno: \"\n",
        ").upper()\n",
        "if turno == \"M\":\n",
        "    print(\"Bom dia!\")\n",
        "elif turno == \"V\":\n",
        "    print(\"Boa tarde!\")\n",
        "elif turno == \"N\":\n",
        "    print(\"Boa noite!\")\n",
        "else:\n",
        "    print(\"Valor inválido!\")"
      ],
      "metadata": {
        "id": "1F492dMvmah0",
        "colab": {
          "base_uri": "https://localhost:8080/"
        },
        "outputId": "554fe1d6-d624-4726-96a4-6fc9e29ac4b3"
      },
      "execution_count": null,
      "outputs": [
        {
          "output_type": "stream",
          "name": "stdout",
          "text": [
            "Digite seu turno, M - matutino, V - vespertino, N - noturno: N\n",
            "Boa noite!\n"
          ]
        }
      ]
    },
    {
      "cell_type": "markdown",
      "source": [
        "03 - Programa: \"\"\"\n",
        "As Organizações Tabajara resolveram dar um aumento de salário aos seus\n",
        "colaboradores e lhe contrataram para desenvolver o programa que calculará os\n",
        "reajustes.\n",
        "Faça um programa que recebe o salário de um colaborador e o reajuste segundo o\n",
        "seguinte critério, baseado no salário atual:\n",
        "    salários até R$ 280,00 (incluindo) : aumento de 20%\n",
        "    salários entre R$ 280,00 e R$ 700,00 : aumento de 15%\n",
        "    salários entre R$ 700,00 e R$ 1500,00 : aumento de 10%\n",
        "    salários de R$ 1500,00 em diante :\n",
        "        aumento de 5% Após o aumento ser realizado,\n",
        "    informe na tela:\n",
        "        o salário antes do reajuste;\n",
        "        o percentual de aumento aplicado;\n",
        "        o valor do aumento;\n",
        "        o novo salário, após o aumento.\n",
        "\"\"\""
      ],
      "metadata": {
        "id": "nrAK8cligfVf"
      }
    },
    {
      "cell_type": "code",
      "source": [
        "salario_anterior = float(input(\"Digite seu salário atual: \"))\n",
        "salario_atual = 0.0\n",
        "diferenca_entre_salarios = 0.0\n",
        "percentual_de_aumento = 0.0\n",
        "\n",
        "if salario_anterior <= 280:\n",
        "    percentual_de_aumento = 20\n",
        "elif salario_anterior <= 750:\n",
        "    percentual_de_aumento = 15\n",
        "elif salario_anterior <= 1500:\n",
        "    percentual_de_aumento = 10\n",
        "else:\n",
        "    percentual_de_aumento = 5\n",
        "\n",
        "diferenca_entre_salarios = salario_anterior * (percentual_de_aumento / 100)\n",
        "salario_atual = salario_anterior + diferenca_entre_salarios\n",
        "print(f\"Seu salário antes do reajuste era de R${salario_anterior:.2f}\")\n",
        "print(f\"Seu salário foi aumentado em {percentual_de_aumento}%\")\n",
        "print(f\"Seu salário foi aumentado em R${diferenca_entre_salarios:.2f}\")\n",
        "print(f\"Seu salário atual é de R${salario_atual:.2f}\")"
      ],
      "metadata": {
        "colab": {
          "base_uri": "https://localhost:8080/"
        },
        "id": "tfr_4vZbgMoL",
        "outputId": "c682b433-a309-4c1b-bdcd-cddb604cd046"
      },
      "execution_count": null,
      "outputs": [
        {
          "output_type": "stream",
          "name": "stdout",
          "text": [
            "Digite seu salário atual: 1548\n",
            "Seu salário antes do reajuste era de R$1548.00\n",
            "Seu salário foi aumentado em 5%\n",
            "Seu salário foi aumentado em R$77.40\n",
            "Seu salário atual é de R$1625.40\n"
          ]
        }
      ]
    },
    {
      "cell_type": "markdown",
      "source": [
        "04 - Programa Imposto de Renda:\n",
        "\n",
        "\"\"\"\n",
        "Faça um programa para o cálculo de uma folha de pagamento, sabendo que os\n",
        "descontos são do Imposto de Renda, que depende do salário bruto\n",
        "(conforme tabela abaixo) e 10% para o INSS e que o FGTS corresponde a 11% do\n",
        "Salário Bruto, mas não é descontado (é a empresa que deposita).\n",
        "O Salário Líquido corresponde ao Salário Bruto menos os descontos.\n",
        "O programa deverá pedir ao usuário o valor da sua hora e a quantidade de horas\n",
        "trabalhadas no mês.\n",
        "\n",
        "Desconto do IR:\n",
        "    Salário Bruto até 900 (inclusive) - isento\n",
        "    Salário Bruto até 1500 (inclusive) - desconto de 5%\n",
        "    Salário Bruto até 2500 (inclusive) - desconto de 10%\n",
        "    Salário Bruto acima de 2500 - desconto de 20%\n",
        "Imprima na tela as informações, dispostas conforme o exemplo abaixo.\n",
        "No exemplo o valor da hora é 5 e a quantidade de hora é 220.\n",
        "        Salário Bruto: (5 * 220)        : R$ 1100,00\n",
        "        (-) IR (5%)                     : R$   55,00\n",
        "        (-) INSS ( 10%)                 : R$  110,00\n",
        "        FGTS (11%)                      : R$  121,00\n",
        "        Total de descontos              : R$  165,00\n",
        "        Salário Liquido                 : R$  935,00\n",
        "\"\"\""
      ],
      "metadata": {
        "id": "SIQwL9zzhAhd"
      }
    },
    {
      "cell_type": "code",
      "source": [
        "valor_da_hora = float(input(\"Digite quanto você recebe por hora: \"))\n",
        "horas_trabalhadas = float(\n",
        "    input(\"Digite quantas horas você trabalhou esse mês: \")\n",
        ")\n",
        "salario_bruto = valor_da_hora * horas_trabalhadas\n",
        "if salario_bruto <= 900:\n",
        "    desconto_ir = 0.0\n",
        "elif salario_bruto <= 1500:\n",
        "    desconto_ir = 5\n",
        "elif salario_bruto <= 2500:\n",
        "    desconto_ir = 10\n",
        "else:\n",
        "    desconto_ir = 20\n",
        "\n",
        "IR = salario_bruto * (desconto_ir / 100)\n",
        "INSS = salario_bruto * (10 / 100)\n",
        "FGTS = salario_bruto * (11 / 100)\n",
        "total_de_descontos = IR + INSS\n",
        "salario_liquido = salario_bruto - total_de_descontos\n",
        "\n",
        "print(\n",
        "    f\"\\nSalário Bruto     : R${salario_bruto:.2f}\",\n",
        "    f\"\\n(-) IR (5%)       : R${IR:.2f}\",\n",
        "    f\"\\n(-) INSS ( 10%)   : R${INSS:.2f}\",\n",
        "    f\"\\nFGTS (11%)        : R${FGTS:.2f}\",\n",
        "    f\"\\nTotal de descontos: R${total_de_descontos:.2f}\",\n",
        "    f\"\\nSalário Liquido   : R${salario_liquido:.2f}\",\n",
        ")"
      ],
      "metadata": {
        "colab": {
          "base_uri": "https://localhost:8080/"
        },
        "id": "X_wLsqH3g9Zn",
        "outputId": "14bfd715-df6b-4fe8-8475-1589534f9ea5"
      },
      "execution_count": null,
      "outputs": [
        {
          "output_type": "stream",
          "name": "stdout",
          "text": [
            "Digite quanto você recebe por hora: 120\n",
            "Digite quantas horas você trabalhou esse mês: 325\n",
            "\n",
            "Salário Bruto     : R$39000.00 \n",
            "(-) IR (5%)       : R$7800.00 \n",
            "(-) INSS ( 10%)   : R$3900.00 \n",
            "FGTS (11%)        : R$4290.00 \n",
            "Total de descontos: R$11700.00 \n",
            "Salário Liquido   : R$27300.00\n"
          ]
        }
      ]
    },
    {
      "cell_type": "code",
      "source": [
        ""
      ],
      "metadata": {
        "id": "Llq3u5lhhK5u"
      },
      "execution_count": null,
      "outputs": []
    }
  ]
}