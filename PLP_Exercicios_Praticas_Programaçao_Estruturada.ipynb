{
  "nbformat": 4,
  "nbformat_minor": 0,
  "metadata": {
    "colab": {
      "provenance": [],
      "authorship_tag": "ABX9TyOwwfxKo86ae5ZDDLxzAmbQ",
      "include_colab_link": true
    },
    "kernelspec": {
      "name": "python3",
      "display_name": "Python 3"
    },
    "language_info": {
      "name": "python"
    }
  },
  "cells": [
    {
      "cell_type": "markdown",
      "metadata": {
        "id": "view-in-github",
        "colab_type": "text"
      },
      "source": [
        "<a href=\"https://colab.research.google.com/github/ricardoricrob76/pensamento-computacional/blob/main/PLP_Exercicios_Praticas_Programa%C3%A7ao_Estruturada.ipynb\" target=\"_parent\"><img src=\"https://colab.research.google.com/assets/colab-badge.svg\" alt=\"Open In Colab\"/></a>"
      ]
    },
    {
      "cell_type": "code",
      "execution_count": 2,
      "metadata": {
        "id": "h6_ip16YahG-"
      },
      "outputs": [],
      "source": [
        "# Programa 01 - Linguagem Python - Programação Estruturada\n",
        "# Autor: Ricardo Roberto de Lima - Data: 18/08/2023 - Linguagem: Python."
      ]
    },
    {
      "cell_type": "markdown",
      "source": [
        "Descrição Narrativa: Faça um programa que leia duas notas e calcule sua média, levando em consideração que para ser aprovado o aluno tem que ter média >= 7.\n"
      ],
      "metadata": {
        "id": "ISQH6gG_bmFL"
      }
    },
    {
      "cell_type": "code",
      "source": [
        "from typing_extensions import reveal_type\n",
        "\n",
        "# Leitura dos Dados de Entrada\n",
        "Nota1 = (float(input(\"Informe o valor da primeira nota\")))\n",
        "Nota2 = (float(input(\"informe o valor da segunda nota\")))\n",
        "\n",
        "# Calcular a Média das Notas.\n",
        "Med = (Nota1 + Nota2) / 2\n",
        "\n",
        "# Estrutura de Decisão com IF para verificar se o aluno foi aprovado e ou reprovado.\n",
        "if (Med >= 7):\n",
        "  rep = \"Aprovado\"\n",
        "else:\n",
        "  rep = \"Reprovado\"\n",
        "\n",
        "# Escreva os resultados obtidos.\n",
        "print(\"O valor da Média é:\", Med)\n",
        "print(Med)\n",
        "print(\"O Conceito do Aluno foi:\", rep)\n",
        "print(rep)\n"
      ],
      "metadata": {
        "colab": {
          "base_uri": "https://localhost:8080/"
        },
        "id": "ZMu0iqslbDuO",
        "outputId": "b8f5cddc-d7de-435c-d55e-8448ffbd4a8e"
      },
      "execution_count": 5,
      "outputs": [
        {
          "output_type": "stream",
          "name": "stdout",
          "text": [
            "Informe o valor da primeira nota8.9\n",
            "informe o valor da segunda nota4.9\n",
            "O valor da Média é:\n",
            "6.9\n",
            "O Conceito do Aluno foi:\n",
            "Reprovado\n"
          ]
        }
      ]
    },
    {
      "cell_type": "code",
      "source": [
        "## Modularizando o PRograma em Questão>"
      ],
      "metadata": {
        "id": "gtvknvTDjFFW"
      },
      "execution_count": 6,
      "outputs": []
    },
    {
      "cell_type": "code",
      "source": [
        "# Criando o método para calcular a média.\n",
        "def calmedia(n1, n2):\n",
        "  return (n1 + n2)/2"
      ],
      "metadata": {
        "id": "jez6PqpzeJ4o"
      },
      "execution_count": 9,
      "outputs": []
    },
    {
      "cell_type": "code",
      "source": [
        "# Verificar a situação do aluno.\n",
        "def verificarsituacao(media):\n",
        "  if (media >= 7):\n",
        "    return \"Aprovado\"\n",
        "  else:\n",
        "    return \"Reprovado\""
      ],
      "metadata": {
        "id": "Cep93sOOjqnb"
      },
      "execution_count": 10,
      "outputs": []
    },
    {
      "cell_type": "code",
      "source": [
        "# Leitura dos Dados de Entrada\n",
        "Nota1 = (float(input(\"Informe o valor da primeira nota\")))\n",
        "Nota2 = (float(input(\"informe o valor da segunda nota\")))\n",
        "\n",
        "# Calcular a Média das Notas.\n",
        "med = calmedia(Nota1, Nota2)\n",
        "# Estrutura de Decisão com IF para verificar se o aluno foi aprovado e ou reprovado.\n",
        "resp = verificarsituacao(med)\n",
        "\n",
        "# Escreva os resultados obtidos.\n",
        "print(\"O valor da Média é:\", med)\n",
        "print(\"O Conceito do Aluno foi:\", resp)\n"
      ],
      "metadata": {
        "colab": {
          "base_uri": "https://localhost:8080/"
        },
        "id": "yWO5k-ykkzEB",
        "outputId": "7d0e6729-e70f-4e48-aea6-3493cf8262aa"
      },
      "execution_count": 11,
      "outputs": [
        {
          "output_type": "stream",
          "name": "stdout",
          "text": [
            "Informe o valor da primeira nota8.9\n",
            "informe o valor da segunda nota5.7\n",
            "O valor da Média é: 7.300000000000001\n",
            "O Conceito do Aluno foi: Aprovado\n"
          ]
        }
      ]
    }
  ]
}